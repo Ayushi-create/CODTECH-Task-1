{
  "metadata": {
    "kernelspec": {
      "language": "python",
      "display_name": "Python 3",
      "name": "python3"
    },
    "language_info": {
      "pygments_lexer": "ipython3",
      "nbconvert_exporter": "python",
      "version": "3.6.4",
      "file_extension": ".py",
      "codemirror_mode": {
        "name": "ipython",
        "version": 3
      },
      "name": "python",
      "mimetype": "text/x-python"
    },
    "kaggle": {
      "accelerator": "none",
      "dataSources": [
        {
          "sourceId": 983499,
          "sourceType": "datasetVersion",
          "datasetId": 536270
        },
        {
          "sourceId": 1108357,
          "sourceType": "datasetVersion",
          "datasetId": 621053
        }
      ],
      "dockerImageVersionId": 30014,
      "isInternetEnabled": false,
      "language": "python",
      "sourceType": "notebook",
      "isGpuEnabled": false
    },
    "colab": {
      "provenance": [],
      "include_colab_link": true
    }
  },
  "nbformat_minor": 0,
  "nbformat": 4,
  "cells": [
    {
      "cell_type": "markdown",
      "metadata": {
        "id": "view-in-github",
        "colab_type": "text"
      },
      "source": [
        "<a href=\"https://colab.research.google.com/github/Ayushi-create/CODTECH-Task-1/blob/main/Another_copy_of_notebook8dfd0fdaea.ipynb\" target=\"_parent\"><img src=\"https://colab.research.google.com/assets/colab-badge.svg\" alt=\"Open In Colab\"/></a>"
      ]
    },
    {
      "source": [
        "# IMPORTANT: RUN THIS CELL IN ORDER TO IMPORT YOUR KAGGLE DATA SOURCES,\n",
        "# THEN FEEL FREE TO DELETE THIS CELL.\n",
        "# NOTE: THIS NOTEBOOK ENVIRONMENT DIFFERS FROM KAGGLE'S PYTHON\n",
        "# ENVIRONMENT SO THERE MAY BE MISSING LIBRARIES USED BY YOUR\n",
        "# NOTEBOOK.\n",
        "import kagglehub\n",
        "prakrutchauhan_indian_candidates_for_general_election_2019_path = kagglehub.dataset_download('prakrutchauhan/indian-candidates-for-general-election-2019')\n",
        "somacodes_india_states_path = kagglehub.dataset_download('somacodes/india-states')\n",
        "\n",
        "print('Data source import complete.')\n"
      ],
      "metadata": {
        "id": "zZTcah4lg3ON"
      },
      "cell_type": "code",
      "outputs": [],
      "execution_count": null
    },
    {
      "cell_type": "markdown",
      "source": [
        "# How do Indians Vote?"
      ],
      "metadata": {
        "id": "Y6AU70Jxg3OP"
      }
    },
    {
      "cell_type": "markdown",
      "source": [
        "![](https://api.time.com/wp-content/uploads/2014/04/486450555.jpg)"
      ],
      "metadata": {
        "id": "U9_pObk4g3OQ"
      }
    },
    {
      "cell_type": "markdown",
      "source": [
        "# Introduction to the analysis"
      ],
      "metadata": {
        "id": "6_9Nd36Hg3OQ"
      }
    },
    {
      "cell_type": "markdown",
      "source": [
        "India is a country, divided into states and union territories, with a parliamentary system governed under the Constitution of India, which defines the power distribution among the federal government and the states.\n",
        "Election Commission is a federal body, enacted under the provisions of the Constitution, responsible for monitoring and administering all the electoral processes of India. This body is responsible for ensuring elections are free and fair, without any bias\n",
        "\n",
        "**The Analysis here is based on the election to Lok Sabha (The General Elections) for the year 2019**\n",
        "Members of Lok Sabha (House of the People) or the lower house of India's Parliament are elected by being voted upon by all adult citizens of India, from a set of candidates who stand in their respective constituencies. Every adult citizen of India can vote only in their constituency. Candidates who win the Lok Sabha elections are called 'Member of Parliament' and hold their seats for five years or until the body is dissolved by the President on the advice of the council of ministers. The house meets in the Lok Sabha Chambers of the Sansad Bhavan in New Delhi, on matters relating to creation of new laws, removing or improving the existing laws that affect all citizens of India."
      ],
      "metadata": {
        "id": "S4aiGqSag3OR"
      }
    },
    {
      "cell_type": "markdown",
      "source": [
        "# Presenting an view before going into the Analysis"
      ],
      "metadata": {
        "id": "Wdhi8C5mg3OS"
      }
    },
    {
      "cell_type": "markdown",
      "source": [
        "![](https://upload.wikimedia.org/wikipedia/commons/c/c2/Indian_General_Election_2019.svg)"
      ],
      "metadata": {
        "id": "1rqAUjjOg3OS"
      }
    },
    {
      "cell_type": "markdown",
      "source": [
        "# Importing the dataset"
      ],
      "metadata": {
        "id": "tK0SeYP4g3OS"
      }
    },
    {
      "cell_type": "code",
      "source": [
        "# This Python 3 environment comes with many helpful analytics libraries installed\n",
        "# It is defined by the kaggle/python Docker image: https://github.com/kaggle/docker-python\n",
        "# For example, here's several helpful packages to load\n",
        "\n",
        "import numpy as np # linear algebra\n",
        "import pandas as pd # data processing, CSV file I/O (e.g. pd.read_csv)\n",
        "\n",
        "# Input data files are available in the read-only \"../input/\" directory\n",
        "# For example, running this (by clicking run or pressing Shift+Enter) will list all files under the input directory\n",
        "\n",
        "import os\n",
        "for dirname, _, filenames in os.walk('/kaggle/input'):\n",
        "    for filename in filenames:\n",
        "        print(os.path.join(dirname, filename))\n",
        "import os, sys\n",
        "from collections import defaultdict\n",
        "from urllib.request import urlopen\n",
        "import json\n",
        "import plotly.graph_objects as go\n",
        "from plotly.subplots import make_subplots\n",
        "from ipywidgets import widgets\n",
        "import geopandas as gpd\n",
        "import matplotlib.pyplot as plt\n",
        "import seaborn as sns\n",
        "%matplotlib inline\n",
        "import random\n",
        "from plotly.offline import download_plotlyjs, init_notebook_mode, plot, iplot\n",
        "import plotly.express as px\n",
        "import plotly.graph_objects as go\n",
        "import plotly.figure_factory as ff\n",
        "from plotly.colors import n_colors\n",
        "from plotly.subplots import make_subplots\n",
        "init_notebook_mode(connected=True)\n",
        "import cufflinks as cf\n",
        "cf.go_offline()\n",
        "from wordcloud import WordCloud , ImageColorGenerator\n",
        "from PIL import Image\n",
        "from sklearn.utils import resample\n",
        "from sklearn.ensemble import RandomForestClassifier\n",
        "from sklearn.model_selection import cross_val_score\n",
        "# You can write up to 5GB to the current directory (/kaggle/working/) that gets preserved as output when you create a version using \"Save & Run All\"\n",
        "# You can also write temporary files to /kaggle/temp/, but they won't be saved outside of the current session"
      ],
      "metadata": {
        "_uuid": "8f2839f25d086af736a60e9eeb907d3b93b6e0e5",
        "_cell_guid": "b1076dfc-b9ad-4769-8c92-a6c4dae69d19",
        "trusted": true,
        "id": "jvcgQXR8g3OT"
      },
      "outputs": [],
      "execution_count": null
    },
    {
      "cell_type": "markdown",
      "source": [
        "# # Lets Check out the data"
      ],
      "metadata": {
        "id": "krScLo_mg3OT"
      }
    },
    {
      "cell_type": "code",
      "source": [
        "vote=pd.read_csv('/kaggle/input/indian-candidates-for-general-election-2019/LS_2.0.csv')\n",
        "vote.head()"
      ],
      "metadata": {
        "_uuid": "d629ff2d2480ee46fbb7e2d37f6b5fab8052498a",
        "_cell_guid": "79c7e3d0-c299-4dcb-8224-4455121ee9b0",
        "trusted": true,
        "id": "zeCjzHkkg3OT"
      },
      "outputs": [],
      "execution_count": null
    },
    {
      "cell_type": "markdown",
      "source": [
        "# To help our Analysis, lets go for some..."
      ],
      "metadata": {
        "id": "69zGdvF9g3OU"
      }
    },
    {
      "cell_type": "markdown",
      "source": [
        "![](https://miro.medium.com/max/500/1*yWFQiGjlgHUVYeh4ELELyw.jpeg)"
      ],
      "metadata": {
        "id": "B3U1Ladrg3OU"
      }
    },
    {
      "cell_type": "markdown",
      "source": [
        "**Identifying the Null values in the columns**"
      ],
      "metadata": {
        "id": "km566GZ8g3OU"
      }
    },
    {
      "cell_type": "code",
      "source": [
        "vote.isnull().sum()"
      ],
      "metadata": {
        "trusted": true,
        "id": "kSThtjjeg3OU"
      },
      "outputs": [],
      "execution_count": null
    },
    {
      "cell_type": "markdown",
      "source": [
        "**Identifying the null entries in the data**"
      ],
      "metadata": {
        "id": "z60rZMuKg3OU"
      }
    },
    {
      "cell_type": "code",
      "source": [
        "vote[vote.SYMBOL.isnull()==True]['NAME'].unique()"
      ],
      "metadata": {
        "trusted": true,
        "id": "0xR_gRajg3OU"
      },
      "outputs": [],
      "execution_count": null
    },
    {
      "cell_type": "markdown",
      "source": [
        "**Cleaning up the Assets and Liabilities columns**"
      ],
      "metadata": {
        "id": "Y4uOYQ_hg3OU"
      }
    },
    {
      "cell_type": "code",
      "source": [
        "def value_cleaner(x):\n",
        "    try:\n",
        "        str_temp = (x.split('Rs')[1].split('\\n')[0].strip())\n",
        "        str_temp_2 = ''\n",
        "        for i in str_temp.split(\",\"):\n",
        "            str_temp_2 = str_temp_2+i\n",
        "        return str_temp_2\n",
        "    except:\n",
        "        x = 0\n",
        "        return x\n",
        "vote['ASSETS'] = vote['ASSETS'].apply((value_cleaner))\n",
        "vote['LIABILITIES'] = vote['LIABILITIES'].apply((value_cleaner))\n",
        "vote.head()"
      ],
      "metadata": {
        "trusted": true,
        "id": "B2ngdjHAg3OU"
      },
      "outputs": [],
      "execution_count": null
    },
    {
      "cell_type": "markdown",
      "source": [
        "**Renaming the columns**"
      ],
      "metadata": {
        "id": "QASzRl4og3OV"
      }
    },
    {
      "cell_type": "code",
      "source": [
        "vote.rename(columns={\"CRIMINAL\\nCASES\": \"CRIMINAL CASES\", \"GENERAL\\nVOTES\": \"GENERAL VOTES\", \"POSTAL\\nVOTES\": \"POSTAL VOTES\",\"TOTAL\\nVOTES\": \"TOTAL VOTES\",\"OVER TOTAL ELECTORS \\nIN CONSTITUENCY\": \"OVER TOTAL ELECTORS IN CONSTITUENCY\",\"OVER TOTAL VOTES POLLED \\nIN CONSTITUENCY\": \"OVER TOTAL VOTES POLLED IN CONSTITUENCY\"}, inplace=True)\n",
        "vote.head()"
      ],
      "metadata": {
        "trusted": true,
        "id": "pbu2X-cEg3OV"
      },
      "outputs": [],
      "execution_count": null
    },
    {
      "cell_type": "markdown",
      "source": [
        "**Cleaning up the Educational Qualification of the election contestants**"
      ],
      "metadata": {
        "id": "sdYI6OsJg3OV"
      }
    },
    {
      "cell_type": "code",
      "source": [
        "vote.EDUCATION.unique()"
      ],
      "metadata": {
        "trusted": true,
        "id": "mu2D5bk3g3OV"
      },
      "outputs": [],
      "execution_count": null
    },
    {
      "cell_type": "code",
      "source": [
        "vote.EDUCATION.replace({'Post Graduate\\n':'Post Graduate'},inplace=True)\n",
        "vote.EDUCATION.unique()"
      ],
      "metadata": {
        "trusted": true,
        "id": "RXulAiNpg3OV"
      },
      "outputs": [],
      "execution_count": null
    },
    {
      "cell_type": "markdown",
      "source": [
        "**Identifying the Data Type of the columns**"
      ],
      "metadata": {
        "id": "5pHWDYiXg3OV"
      }
    },
    {
      "cell_type": "code",
      "source": [
        "vote.dtypes"
      ],
      "metadata": {
        "trusted": true,
        "id": "I3FMxSOtg3OV"
      },
      "outputs": [],
      "execution_count": null
    },
    {
      "cell_type": "markdown",
      "source": [
        "**Identifying Discrepancy entries in the columns**"
      ],
      "metadata": {
        "id": "vVvEggOkg3OV"
      }
    },
    {
      "cell_type": "code",
      "source": [
        "vote[vote['CRIMINAL CASES']=='Not Available'].head()"
      ],
      "metadata": {
        "trusted": true,
        "id": "Gn18JZEfg3OV"
      },
      "outputs": [],
      "execution_count": null
    },
    {
      "cell_type": "markdown",
      "source": [
        "**Updating the data types for the analysis**"
      ],
      "metadata": {
        "id": "TgNTHNaCg3OW"
      }
    },
    {
      "cell_type": "code",
      "source": [
        "vote['ASSETS']=pd.to_numeric(vote['ASSETS'])\n",
        "vote['LIABILITIES']=pd.to_numeric(vote['LIABILITIES'])\n",
        "vote['CRIMINAL CASES'].replace({np.NaN:0})\n",
        "vote['CRIMINAL CASES'] = pd.to_numeric(vote['CRIMINAL CASES'], errors='coerce').fillna(0).astype(np.int64)"
      ],
      "metadata": {
        "trusted": true,
        "id": "cIHiH7Sig3OW"
      },
      "outputs": [],
      "execution_count": null
    },
    {
      "cell_type": "markdown",
      "source": [
        "# The Analysis"
      ],
      "metadata": {
        "id": "skaML48Gg3OW"
      }
    },
    {
      "cell_type": "markdown",
      "source": [
        "# State and Constituency Level Analysis"
      ],
      "metadata": {
        "id": "lvdeKjAYg3OW"
      }
    },
    {
      "cell_type": "markdown",
      "source": [
        "# What is the distribution of Constituencies over all the states?"
      ],
      "metadata": {
        "id": "OezXBoHcg3OW"
      }
    },
    {
      "cell_type": "code",
      "source": [
        "st_con=vote.groupby('STATE').apply(lambda x:x['CONSTITUENCY'].nunique()).reset_index(name='# Constituency')\n",
        "shp_gdf = gpd.read_file('/kaggle/input/india-states/Igismap/Indian_States.shp')\n",
        "merged = shp_gdf.set_index('st_nm').join(st_con.set_index('STATE'))\n",
        "fig, ax = plt.subplots(1, figsize=(10, 10))\n",
        "ax.axis('off')\n",
        "ax.set_title('State-wise Distribution of Indian Constituencies',\n",
        "             fontdict={'fontsize': '15', 'fontweight' : '3'})\n",
        "fig = merged.plot(column='# Constituency', cmap='inferno_r',linewidth=0.5, ax=ax, edgecolor='0.2',legend=True)\n",
        "st_con.sort_values(by='# Constituency',ascending=False,inplace=True)\n",
        "fig2 = px.bar(st_con, x='STATE', y='# Constituency',\n",
        "                     color='# Constituency',\n",
        "             labels={'pop':'Constituencies of India'})\n",
        "fig2.update_layout(title_text='Statewise distribution of the Constituencies all over India',template='plotly_dark')\n",
        "fig2.show()"
      ],
      "metadata": {
        "trusted": true,
        "id": "sDzsk-QWg3OW"
      },
      "outputs": [],
      "execution_count": null
    },
    {
      "cell_type": "markdown",
      "source": [
        "**Observation** Uttar Pradesh, Maharashtra and West Bengal- The sates have the most number of constituencies. There exists a direct relationship of count of constituencies and population- The constituencies are divided based on the population of 1971- and this shall remain till the year 2026. Although currently Bihar has a higher population, West Bengal has the 3rd highest constituency count based on the above fact."
      ],
      "metadata": {
        "id": "GAy_P0bQg3OW"
      }
    },
    {
      "cell_type": "markdown",
      "source": [
        "# Lets create a Sunburst image of all the States and Constituencies"
      ],
      "metadata": {
        "id": "Xt9ETxZlg3OW"
      }
    },
    {
      "cell_type": "code",
      "source": [
        "st_con_vt=vote[['STATE','CONSTITUENCY','TOTAL ELECTORS']]\n",
        "fig = px.sunburst(st_con_vt, path=['STATE','CONSTITUENCY'], values='TOTAL ELECTORS',\n",
        "                  color='TOTAL ELECTORS',\n",
        "                  color_continuous_scale='viridis_r')\n",
        "fig.update_layout(title_text='Sunburst Image of State and Constituency by Voters',template='plotly_dark')\n",
        "fig.show()"
      ],
      "metadata": {
        "trusted": true,
        "id": "dBz5Sg-Eg3OW"
      },
      "outputs": [],
      "execution_count": null
    },
    {
      "cell_type": "markdown",
      "source": [
        "# Party Level Analysis"
      ],
      "metadata": {
        "id": "LVOu8cjKg3OW"
      }
    },
    {
      "cell_type": "markdown",
      "source": [
        "# Which Parties have been present in most constituencies and States?"
      ],
      "metadata": {
        "id": "GVDauSdOg3OW"
      }
    },
    {
      "cell_type": "code",
      "source": [
        "vote_prty=vote[vote['PARTY']!='NOTA']\n",
        "prty_cnt=vote_prty.groupby('PARTY').apply(lambda x:x['CONSTITUENCY'].count()).reset_index(name='# Constituency')\n",
        "prty_st=vote_prty.groupby('PARTY').apply(lambda x:x['STATE'].nunique()).reset_index(name='# State')\n",
        "prty_cnt.sort_values(by='# Constituency',ascending=False,inplace=True)\n",
        "prty_top_cn=prty_cnt[:25]\n",
        "prty_top_all=pd.merge(prty_top_cn,prty_st,how='inner',left_on='PARTY',right_on='PARTY')\n",
        "fig = px.scatter(prty_top_all, x='# Constituency', y='# State', color='# State',\n",
        "                 size='# Constituency', hover_data=['PARTY'])\n",
        "fig.update_layout(title_text='Constituency vs Statewise participation for the most contesting Political Parties',template='plotly_dark')\n",
        "fig.show()"
      ],
      "metadata": {
        "trusted": true,
        "id": "-2PYl-PFg3Oc"
      },
      "outputs": [],
      "execution_count": null
    },
    {
      "cell_type": "markdown",
      "source": [
        "**Observation** The Bharatiya Janata Party (BJP) and Indian National Congress (INC) have participated in the most number of constituencies all over India. While BJP leads in the number of constituency contested, INC wins in terms of the number of States. While these are the major parties to contest almost all over India, we see the rest of the parties have restricted themselves to a handfull of states."
      ],
      "metadata": {
        "id": "agku9Viig3Oc"
      }
    },
    {
      "cell_type": "markdown",
      "source": [
        "# What has been the performance of the Parties Statewise?"
      ],
      "metadata": {
        "id": "ZTVW2-pZg3Oc"
      }
    },
    {
      "cell_type": "code",
      "source": [
        "st_prty=vote_prty.groupby(['PARTY','STATE']).apply(lambda x:x['WINNER'].sum()).reset_index(name='Wins')\n",
        "pvt_st_prty=pd.pivot(st_prty,index='PARTY',columns='STATE',values='Wins')\n",
        "plt.figure(figsize=(15,35))\n",
        "sns.heatmap(pvt_st_prty,annot=True,fmt='g',cmap='terrain')\n",
        "plt.xlabel('States',size=20)\n",
        "plt.ylabel('Party',size=20)\n",
        "plt.title('Statewise report card for the Political Parties in India',size=25)"
      ],
      "metadata": {
        "trusted": true,
        "id": "t9JRMWceg3Oc"
      },
      "outputs": [],
      "execution_count": null
    },
    {
      "cell_type": "markdown",
      "source": [
        "# Which party has won the most constituencies?"
      ],
      "metadata": {
        "id": "wRbF7nPIg3Od"
      }
    },
    {
      "cell_type": "code",
      "source": [
        "part_win=vote.groupby('PARTY').apply(lambda x:x['WINNER'].sum()).reset_index(name='# Wins')\n",
        "part_win.sort_values(by='# Wins',ascending=False,inplace=True)\n",
        "top_part_win=part_win[0:15]\n",
        "fig = px.bar(top_part_win, x='PARTY', y='# Wins',\n",
        "                     color='# Wins',title='Win Counts by a Political Party in 2019')\n",
        "fig.update_layout(title_text='Win Counts by a Political Party in 2019',template='plotly_dark')\n",
        "fig.show()"
      ],
      "metadata": {
        "trusted": true,
        "id": "_hESeqzgg3Od"
      },
      "outputs": [],
      "execution_count": null
    },
    {
      "cell_type": "markdown",
      "source": [
        "**Observation** As seen from the data, In 2019, BJP has won the maximum constituencies all over India. The Image below the introduction also suggests the same. The distribution of all the parties is presented below. INC, who stood 2nd in the number of victories had only 52, which is practically 1/6th of the constituencies won by BJP"
      ],
      "metadata": {
        "id": "tknqsh4jg3Od"
      }
    },
    {
      "cell_type": "markdown",
      "source": [
        "# What has been the general Win vs Loss relationship for the Parties in 2019?"
      ],
      "metadata": {
        "id": "e9A3wT1Zg3Od"
      }
    },
    {
      "cell_type": "code",
      "source": [
        "prty_cnt_win=pd.merge(prty_cnt,part_win,how='inner',left_on='PARTY',right_on='PARTY')\n",
        "prty_cnt_win['Lost']=prty_cnt_win['# Constituency']-prty_cnt_win['# Wins']\n",
        "prty_wins_cnt=prty_cnt_win[['PARTY','# Wins']]\n",
        "prty_wins_cnt['Verdict']='Constituency Won'\n",
        "prty_loss_cnt=prty_cnt_win[['PARTY','Lost']]\n",
        "prty_loss_cnt['Verdict']='Constituency Lost'\n",
        "prty_wins_cnt.columns=['Party','Counts','Verdict']\n",
        "prty_loss_cnt.columns=['Party','Counts','Verdict']\n",
        "top_prty_wins_cnt=prty_wins_cnt[:15]\n",
        "prty_loss_cnt_cnt=prty_loss_cnt[:15]\n",
        "prt_win_loss=pd.concat([top_prty_wins_cnt,prty_loss_cnt_cnt])\n",
        "fig = px.bar(prt_win_loss, x='Party', y='Counts', color='Verdict')\n",
        "fig.update_layout(title_text='Win vs Loss Analysis for the Top Parties',template='plotly_dark')\n",
        "fig.show()"
      ],
      "metadata": {
        "trusted": true,
        "id": "iUPXTM0rg3Od"
      },
      "outputs": [],
      "execution_count": null
    },
    {
      "cell_type": "markdown",
      "source": [
        "**Observation** As seen in the above chart, the 2019 elections have been extremely lucky for parties like BJP,SHS or DMK. But it has been a major failure for the rest of the parties, where they have lost more than they won."
      ],
      "metadata": {
        "id": "s9l9DpOwg3Od"
      }
    },
    {
      "cell_type": "markdown",
      "source": [
        "# Politician Level Analytics"
      ],
      "metadata": {
        "id": "uiRR2G0Jg3Od"
      }
    },
    {
      "cell_type": "markdown",
      "source": [
        "# What is the Gender Ratio of the Contestants? Also the Gender Ratio of the Winners?"
      ],
      "metadata": {
        "id": "9YtsvRSrg3Od"
      }
    },
    {
      "cell_type": "code",
      "source": [
        "vote_gndr=vote[vote['PARTY']!='NOTA']\n",
        "gndr_overall=vote_gndr.groupby('GENDER').apply(lambda x:x['NAME'].count()).reset_index(name='Counts')\n",
        "gndr_overall['Category']='Overall Gender Ratio'\n",
        "winners=vote_gndr[vote_gndr['WINNER']==1]\n",
        "gndr_winner=winners.groupby('GENDER').apply(lambda x:x['NAME'].count()).reset_index(name='Counts')\n",
        "gndr_winner['Category']='Winning Gender Ratio'\n",
        "gndr_overl_win=pd.concat([gndr_winner,gndr_overall])\n",
        "fig = px.bar(gndr_overl_win, x='GENDER', y='Counts',\n",
        "             color='Category', barmode='group')\n",
        "fig.update_layout(title_text='Participation vs Win Counts analysis for the Genders',template='plotly_dark')\n",
        "fig.show()"
      ],
      "metadata": {
        "trusted": true,
        "id": "VDRyESL5g3Od"
      },
      "outputs": [],
      "execution_count": null
    },
    {
      "cell_type": "markdown",
      "source": [
        "**Observation** Out of the total list of participants only 12.78% (258 out of 2018) are female politicians, while 87.21% (1760 out of 2018) are male. Upon considering the winners, 14.1% (76 out of 463) are female politicians, while 85.9% are male politicians. The Gender ratio is not very well distributed as can be seen from the above presentation."
      ],
      "metadata": {
        "id": "pJChdYVyg3Od"
      }
    },
    {
      "cell_type": "markdown",
      "source": [
        "# What is the Educational Qualification of our politicians?"
      ],
      "metadata": {
        "id": "tYC3vUUbg3Od"
      }
    },
    {
      "cell_type": "code",
      "source": [
        "ed_valid=vote[vote['PARTY']!=\"NOTA\"]\n",
        "ed_cnt=ed_valid.groupby('EDUCATION').apply(lambda x:x['PARTY'].count()).reset_index(name='Counts')\n",
        "fig = go.Figure(data=[go.Pie(labels=ed_cnt['EDUCATION'], values=ed_cnt['Counts'], pull=[0.1, 0.2, 0, 0.1, 0.2, 0,0.1, 0.2, 0,0.1, 0.2, 0.1])])\n",
        "fig.update_layout(title_text='Overall Education Qualification of all the Nominees',template='plotly_dark')\n",
        "fig.show()\n",
        "ed_won=ed_valid[ed_valid['WINNER']==1]\n",
        "ed_win_cnt=ed_won.groupby('EDUCATION').apply(lambda x:x['PARTY'].count()).reset_index(name='Counts')\n",
        "fig2 = go.Figure(data=[go.Pie(labels=ed_win_cnt['EDUCATION'], values=ed_win_cnt['Counts'], pull=[0.1, 0.2, 0, 0.1, 0.2, 0,0.1, 0.1, 0.2,0, 0.1, 0.2],title='Education Qualification of the Winners')])\n",
        "fig2.update_layout(title_text='Education Qualification of the Winners',template='plotly_dark')\n",
        "fig2.show()"
      ],
      "metadata": {
        "trusted": true,
        "id": "AMezXSVQg3Oe"
      },
      "outputs": [],
      "execution_count": null
    },
    {
      "cell_type": "markdown",
      "source": [
        "**Observation** The total percentage of Graduate+ educated people contesting in the election is 67.12%, which has increased to 72.17% of the winners. This is actually a positive sign, as educated politicians are a very big factor towards a country's development. But still around 28% of the politicians have received no professional degree. Hope with passing time, we improve upon this factor, and consider the educational qualification as a primary requirement while voting!"
      ],
      "metadata": {
        "id": "vittZZCYg3Oe"
      }
    },
    {
      "cell_type": "markdown",
      "source": [
        "# What is the relationship of Age and Politics?"
      ],
      "metadata": {
        "id": "5I4KvR4og3Oe"
      }
    },
    {
      "cell_type": "code",
      "source": [
        "age_cnt=ed_valid.groupby(['AGE','GENDER']).apply(lambda x:x['NAME'].count()).reset_index(name='Counts')\n",
        "fig = px.histogram(age_cnt, x=\"AGE\",y='Counts',color='GENDER',marginal='violin',title='Age Counts Distribution among the politicians')\n",
        "fig.update_layout(title_text='Age Counts Distribution among the politicians',template='plotly_dark')\n",
        "fig.show()"
      ],
      "metadata": {
        "trusted": true,
        "id": "pxWZrSzyg3Oe"
      },
      "outputs": [],
      "execution_count": null
    },
    {
      "cell_type": "markdown",
      "source": [
        "**Observation** Most Number of female politicians have their average age between 45-50, while for male politician, it ranges from 50-60 range. The average age of male politians is more as compared to female politicians contesting for the Lok Sabha elections."
      ],
      "metadata": {
        "id": "Vb3E568eg3Oe"
      }
    },
    {
      "cell_type": "markdown",
      "source": [
        "# What relation does the Politician category have with the election results?"
      ],
      "metadata": {
        "id": "3EtoQAZsg3Oe"
      }
    },
    {
      "cell_type": "code",
      "source": [
        "vote_cat=vote[vote['PARTY']!='NOTA']\n",
        "cat_overall=vote_cat.groupby('CATEGORY').apply(lambda x:x['NAME'].count()).reset_index(name='Counts')\n",
        "cat_overall['Category']='Overall Category Counts'\n",
        "winners_cat=vote_gndr[vote_gndr['WINNER']==1]\n",
        "cat_winner=winners_cat.groupby('CATEGORY').apply(lambda x:x['NAME'].count()).reset_index(name='Counts')\n",
        "cat_winner['Category']='Winning Category Ratio'\n",
        "cat_overl_win=pd.concat([cat_winner,cat_overall])\n",
        "fig = px.bar(cat_overl_win, x='CATEGORY', y='Counts',\n",
        "             color='Category', barmode='group')\n",
        "fig.update_layout(title_text='Participation vs Win Counts for the Category in Politics',template='plotly_dark')\n",
        "fig.show()"
      ],
      "metadata": {
        "trusted": true,
        "id": "kEIdSBU_g3Oe"
      },
      "outputs": [],
      "execution_count": null
    },
    {
      "cell_type": "markdown",
      "source": [
        "**Observation** The Category participation of General-SC-ST have been in the ratio of 68.97:18.97:12.04- while as of the winners, the ratios have been modified to 74.02:15.76:10:20"
      ],
      "metadata": {
        "id": "24b19Enog3Oe"
      }
    },
    {
      "cell_type": "markdown",
      "source": [
        "# Have the politicians been involved with criminal activities?"
      ],
      "metadata": {
        "id": "kLH5knYNg3Oe"
      }
    },
    {
      "cell_type": "code",
      "source": [
        "crim_cnt=ed_valid.groupby('CRIMINAL CASES').apply(lambda x:x['NAME'].count()).reset_index(name='Counts')\n",
        "fig = px.histogram(crim_cnt, x='CRIMINAL CASES',y='Counts',marginal='violin')\n",
        "fig.update_layout(title_text='Criminal Cases Counts Distribution among the politicians',template='plotly_dark')\n",
        "fig.show()"
      ],
      "metadata": {
        "trusted": true,
        "id": "KVzIxb5ng3Oe"
      },
      "outputs": [],
      "execution_count": null
    },
    {
      "cell_type": "markdown",
      "source": [
        "**Observations** Many politicians have been associated with criminal activities. Always these cases pressed need not be genuine, but obviously, when its multiple- this is a serious issue. We must take the responsibility while voting, as its our duty to choose the right person- as a duty towards the nation."
      ],
      "metadata": {
        "id": "7LIqZEOug3Oe"
      }
    },
    {
      "cell_type": "markdown",
      "source": [
        "# Plotting the Assets vs Liabilities amount for Winning Politicians (Plotted w.r.t State)"
      ],
      "metadata": {
        "id": "eFXt4K-Xg3Of"
      }
    },
    {
      "cell_type": "code",
      "source": [
        "as_liab_name=ed_valid[['NAME','PARTY','ASSETS','LIABILITIES','STATE','CONSTITUENCY','WINNER']]\n",
        "as_liab_name.WINNER.replace({1:'Yes',0:'No'},inplace=True)\n",
        "win_as_liab_name=as_liab_name[as_liab_name['WINNER']=='Yes']\n",
        "win_as_liab_name.sort_values(by='ASSETS',ascending=False,inplace=True)\n",
        "fig = px.scatter(win_as_liab_name, x='ASSETS', y='LIABILITIES',\n",
        "                 color='STATE',size='ASSETS',\n",
        "                 hover_data=(['NAME','PARTY','CONSTITUENCY','STATE','WINNER']),\n",
        "                 title='Assets vs Liabilities for the Winning Politicians')\n",
        "fig.update_layout(title_text='Assets vs Liabilities for the Winning Politicians',template='plotly_dark')\n",
        "fig.show()"
      ],
      "metadata": {
        "scrolled": true,
        "trusted": true,
        "id": "nsZZWwpqg3Of"
      },
      "outputs": [],
      "execution_count": null
    },
    {
      "cell_type": "markdown",
      "source": [
        "**Observations** The assets and liabilities of the Winning politicians have been plotted. The parameters vary largely depending on the business/services they are associated with besides politics.\n",
        "No valid correlation could be inferred with respect to assets and liabilities."
      ],
      "metadata": {
        "id": "JfxHxkCxg3Of"
      }
    },
    {
      "cell_type": "markdown",
      "source": [
        "# Prediction"
      ],
      "metadata": {
        "id": "zuCHS39qg3Of"
      }
    },
    {
      "cell_type": "markdown",
      "source": [
        "**Note** We shall use Random Classifier to predict the results of the election."
      ],
      "metadata": {
        "id": "Z9cKoxd9g3Of"
      }
    },
    {
      "cell_type": "code",
      "source": [
        "vote_df=vote[vote['PARTY']!='NOTA']\n",
        "vote_df['GENDER'].replace({'MALE':1,'FEMALE':2},inplace=True)\n",
        "vote_df['CATEGORY'].replace({'GENERAL':1,'SC':2,'ST':3},inplace=True)\n",
        "i=1\n",
        "parties_dict={}\n",
        "for j in vote_df['PARTY']:\n",
        "    if j in parties_dict:\n",
        "        continue\n",
        "    else:\n",
        "        parties_dict[j]=i\n",
        "        i+=1\n",
        "vote_df['PARTY'].replace(parties_dict,inplace=True)\n",
        "a=1\n",
        "edu_dict={}\n",
        "for b in vote_df['EDUCATION']:\n",
        "    if b in edu_dict:\n",
        "        continue\n",
        "    else:\n",
        "        edu_dict[b]=a\n",
        "        a+=1\n",
        "vote_df['EDUCATION'].replace(edu_dict,inplace=True)\n",
        "df1 = vote_df[['STATE','CONSTITUENCY','WINNER','PARTY','SYMBOL','GENDER','CRIMINAL CASES','AGE','CATEGORY','EDUCATION','TOTAL VOTES','TOTAL ELECTORS','ASSETS','LIABILITIES']]\n",
        "num_cols = ['PARTY','EDUCATION','CRIMINAL CASES','AGE','TOTAL VOTES','TOTAL ELECTORS','ASSETS','CATEGORY','LIABILITIES','GENDER']\n",
        "dataset = pd.get_dummies(df1)\n",
        "from sklearn.preprocessing import StandardScaler\n",
        "standardScaler = StandardScaler()\n",
        "scaling_columns = num_cols\n",
        "dataset[scaling_columns] = standardScaler.fit_transform(dataset[scaling_columns])\n",
        "dataset.head()"
      ],
      "metadata": {
        "trusted": true,
        "id": "RV3la9GTg3Of"
      },
      "outputs": [],
      "execution_count": null
    },
    {
      "cell_type": "code",
      "source": [
        "df_not_winner = dataset[dataset.WINNER == 0]\n",
        "df_winner = dataset[dataset.WINNER == 1]\n",
        "df_winner_upsampled = resample(df_winner, replace = True,n_samples = 1452, random_state = 0)\n",
        "df_total_upsampled = pd.concat([df_not_winner, df_winner_upsampled])\n",
        "df_total_upsampled.WINNER.value_counts()\n",
        "y = df_total_upsampled['WINNER']\n",
        "X = df_total_upsampled.drop(['WINNER'], axis = 1)\n",
        "rf_scores = []\n",
        "for k in range(1,60):\n",
        "    randomforest_classifier= RandomForestClassifier(n_estimators=k,random_state=0)\n",
        "    score=cross_val_score(randomforest_classifier,X,y,cv=10)\n",
        "    rf_scores.append(score.mean())\n",
        "fig=px.scatter(x=[k for k in range(1, 60)],y= rf_scores,color=rf_scores,size=rf_scores)\n",
        "fig.update_layout(title_text='Assets vs Liabilities for the Winning Politicians',template='plotly_dark')\n",
        "fig.show()"
      ],
      "metadata": {
        "trusted": true,
        "id": "P-VSHBCxg3Of"
      },
      "outputs": [],
      "execution_count": null
    },
    {
      "cell_type": "markdown",
      "source": [
        "**Observation** As seen from the above scatter plot, for tge value of k=38, we get the highest accuracy values. We shall be using the same for our model's prediction"
      ],
      "metadata": {
        "id": "SoEej5W_g3Of"
      }
    },
    {
      "cell_type": "code",
      "source": [
        "randomforest_classifier= RandomForestClassifier(n_estimators=38,random_state=0)\n",
        "score=cross_val_score(randomforest_classifier,X,y,cv=10)\n",
        "print('% Accuracy :', round(score.mean()*100,4))"
      ],
      "metadata": {
        "trusted": true,
        "id": "I_uhsmRvg3Of"
      },
      "outputs": [],
      "execution_count": null
    },
    {
      "cell_type": "markdown",
      "source": [
        "**Observation** We have reached an accuracy percentage of 96.21% with our model. Will work on to improve the model further- to increase the accuracy."
      ],
      "metadata": {
        "id": "IF6vNUuLg3Og"
      }
    },
    {
      "cell_type": "markdown",
      "source": [
        "# Summary"
      ],
      "metadata": {
        "id": "QoF9u1Iog3Og"
      }
    },
    {
      "cell_type": "markdown",
      "source": [
        "After analyzing the voting pattern of Indians, we have come upon multiple conclusions. Let us look at them in the below points:\n",
        "\n",
        "1. In 2019, the Bharatiya Janata Party (BJP) has claimed the most number of seats all over India- dominating clearly over all the national and the satte specific parties. The outreach created by them has really made them claim their position in the Lok Sabha.\n",
        "2. Gerneally, education is regarded as a significant factor while voting. Arounf 72%+ of the winners are having a gradutae + degree. This is a significant factor for a developing nation like India- where we need educated politicians to lead the nation.\n",
        "3. The general paticipation of Female politicians is much less than the male politicians. A balanced gander ratio would be good enough- as people from all sectors would be able to contribute to the progress of the society.\n",
        "4. The average age of polticians is high. It might be an advantage if younger politicians contest and are able to lead the nation. Altough is is never a parameter to think that the older politicians wouldn't be able to perform their tasks well- but it comes with the risk of health and age related issues.\n",
        "5. Criminal activities is a serious concern- as the people who are elected by us- indirectly are the face of the nation. They should be more of a role model-rather than someone who is not respected.\n",
        "6. As our prediction suggestes, we have reached an accuracy of 96.2% in estimating the winning participants using Random classifier model. I shall work upon to improve this model further in the future updates\n",
        "\n",
        "# About the data\n",
        "\n",
        "1. The data is very good- cleaned and well presented. Need to just have some further checks upon the validity. I have found some discrepancies in the data which I will be sharing.\n",
        "2. Some data types and columns needed basic cleaning which we have done as seen above.\n",
        "3. Overall it gives us a good sense about Indian poltical scenerio and what factors should we consider while we choose our representative. Its our reponsibility to choose the right candidates, such that they can make the difference!\n",
        "\n",
        "# Please upvote if you liked the Analysis!!!"
      ],
      "metadata": {
        "id": "SmkG3Ot5g3Og"
      }
    }
  ]
}